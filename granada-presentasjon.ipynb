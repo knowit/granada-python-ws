{
 "metadata": {
  "name": ""
 },
 "nbformat": 3,
 "nbformat_minor": 0,
 "worksheets": [
  {
   "cells": [
    {
     "cell_type": "markdown",
     "metadata": {},
     "source": [
      "Grunnleggende syntaks og data-typer\n",
      "========================\n",
      "\n",
      "Under f\u00f8lger en demo av grunnleggende Python. Alle eksemplene kan puttes i egne filer og kj\u00f8res derfra eller de kan tastes inn i en interpreter som kj\u00f8res med `$ python`.\n",
      "\n",
      "Komplett program (helloworld.py):\n",
      "=================\n"
     ]
    },
    {
     "cell_type": "code",
     "collapsed": false,
     "input": [
      "print(\"Hello, World!\")"
     ],
     "language": "python",
     "metadata": {},
     "outputs": [
      {
       "output_type": "stream",
       "stream": "stdout",
       "text": [
        "Hello, World!\n"
       ]
      }
     ],
     "prompt_number": 1
    },
    {
     "cell_type": "markdown",
     "metadata": {},
     "source": [
      "Kan lagres til helloworld.py og kj\u00f8res med:\n",
      "\n",
      "`$ python helloworld.py`"
     ]
    },
    {
     "cell_type": "markdown",
     "metadata": {},
     "source": [
      "Komplett program (echo.py):\n",
      "=========================\n",
      "\n",
      "Imports i python er rett frem, kan gj\u00f8res p\u00e5 flere forskjellige m\u00e5ter. Vi bruker .-operator for \u00e5 hente objekter ut av moduler:"
     ]
    },
    {
     "cell_type": "code",
     "collapsed": false,
     "input": [
      "import sys\n",
      "\n",
      "program_name = sys.argv[0]\n",
      "arguments = sys.argv[1:]\n",
      "print(' '.join(arguments))\n",
      "\n",
      "from sys import argv\n",
      "print('\\n'.join(argv))"
     ],
     "language": "python",
     "metadata": {},
     "outputs": [
      {
       "output_type": "stream",
       "stream": "stdout",
       "text": [
        "-f /Users/robin/.ipython/profile_default/security/kernel-984ca71f-b37d-46e1-a55b-76d1a1eaac28.json --pylab inline --IPKernelApp.parent_appname='ipython-notebook' --profile-dir /Users/robin/.ipython/profile_default --parent=1\n",
        "-c\n",
        "-f\n",
        "/Users/robin/.ipython/profile_default/security/kernel-984ca71f-b37d-46e1-a55b-76d1a1eaac28.json\n",
        "--pylab\n",
        "inline\n",
        "--IPKernelApp.parent_appname='ipython-notebook'\n",
        "--profile-dir\n",
        "/Users/robin/.ipython/profile_default\n",
        "--parent=1\n"
       ]
      }
     ],
     "prompt_number": 3
    },
    {
     "cell_type": "markdown",
     "metadata": {},
     "source": [
      "Her skjer det mye. Vi noterer oss:\n",
      "\n",
      "- `import navn` gj\u00f8r at vi kan referer til `navn.ting` for \u00e5 gjenbruke modulen `navn`\n",
      "- `from navn import ting` gj\u00f8r at vi kan refere til `ting`\n",
      "- `sys.argv` er en list; `[]` er indexing operator\n",
      "- eksempel p\u00e5 slicing, `sys.argv[1:]` betyr \"fra og med element med index 1\"\n",
      "- join er en metode eid av str, i python heter det `delimiter.join(things)` og join kan bruke en iterable (list, dict, tuple, str, ...)\n",
      "\n",
      "Hvordan finne slike ting?\n",
      "```\n",
      ">>> from sys import argv\n",
      ">>> help(argv)\n",
      "```"
     ]
    },
    {
     "cell_type": "code",
     "collapsed": false,
     "input": [
      "from os import path\n",
      "help(path)"
     ],
     "language": "python",
     "metadata": {},
     "outputs": [
      {
       "output_type": "stream",
       "stream": "stdout",
       "text": [
        "Help on module posixpath:\n",
        "\n",
        "NAME\n",
        "    posixpath - Common operations on Posix pathnames.\n",
        "\n",
        "DESCRIPTION\n",
        "    Instead of importing this module directly, import os and refer to\n",
        "    this module as os.path.  The \"os.path\" name is an alias for this\n",
        "    module on Posix systems; on other systems (e.g. Mac, Windows),\n",
        "    os.path provides the same operations in a manner specific to that\n",
        "    platform, and is an alias to another module (e.g. macpath, ntpath).\n",
        "    \n",
        "    Some of this can actually be useful on non-Posix systems too, e.g.\n",
        "    for manipulation of the pathname component of URLs.\n",
        "\n",
        "FUNCTIONS\n",
        "    abspath(path)\n",
        "        Return an absolute path.\n",
        "    \n",
        "    basename(p)\n",
        "        Returns the final component of a pathname\n",
        "    \n",
        "    commonprefix(m)\n",
        "        Given a list of pathnames, returns the longest common leading component\n",
        "    \n",
        "    dirname(p)\n",
        "        Returns the directory component of a pathname\n",
        "    \n",
        "    exists(path)\n",
        "        Test whether a path exists.  Returns False for broken symbolic links\n",
        "    \n",
        "    expanduser(path)\n",
        "        Expand ~ and ~user constructions.  If user or $HOME is unknown,\n",
        "        do nothing.\n",
        "    \n",
        "    expandvars(path)\n",
        "        Expand shell variables of form $var and ${var}.  Unknown variables\n",
        "        are left unchanged.\n",
        "    \n",
        "    getatime(filename)\n",
        "        Return the last access time of a file, reported by os.stat().\n",
        "    \n",
        "    getctime(filename)\n",
        "        Return the metadata change time of a file, reported by os.stat().\n",
        "    \n",
        "    getmtime(filename)\n",
        "        Return the last modification time of a file, reported by os.stat().\n",
        "    \n",
        "    getsize(filename)\n",
        "        Return the size of a file, reported by os.stat().\n",
        "    \n",
        "    isabs(s)\n",
        "        Test whether a path is absolute\n",
        "    \n",
        "    isdir(s)\n",
        "        Return true if the pathname refers to an existing directory.\n",
        "    \n",
        "    isfile(path)\n",
        "        Test whether a path is a regular file\n",
        "    \n",
        "    islink(path)\n",
        "        Test whether a path is a symbolic link\n",
        "    \n",
        "    ismount(path)\n",
        "        Test whether a path is a mount point\n",
        "    \n",
        "    join(a, *p)\n",
        "        Join two or more pathname components, inserting '/' as needed.\n",
        "        If any component is an absolute path, all previous path components\n",
        "        will be discarded.  An empty last part will result in a path that\n",
        "        ends with a separator.\n",
        "    \n",
        "    lexists(path)\n",
        "        Test whether a path exists.  Returns True for broken symbolic links\n",
        "    \n",
        "    normcase(s)\n",
        "        Normalize case of pathname.  Has no effect under Posix\n",
        "    \n",
        "    normpath(path)\n",
        "        Normalize path, eliminating double slashes, etc.\n",
        "    \n",
        "    realpath(filename)\n",
        "        Return the canonical path of the specified filename, eliminating any\n",
        "        symbolic links encountered in the path.\n",
        "    \n",
        "    relpath(path, start=None)\n",
        "        Return a relative version of a path\n",
        "    \n",
        "    samefile(f1, f2)\n",
        "        Test whether two pathnames reference the same actual file\n",
        "    \n",
        "    sameopenfile(fp1, fp2)\n",
        "        Test whether two open file objects reference the same file\n",
        "    \n",
        "    samestat(s1, s2)\n",
        "        Test whether two stat buffers reference the same file\n",
        "    \n",
        "    split(p)\n",
        "        Split a pathname.  Returns tuple \"(head, tail)\" where \"tail\" is\n",
        "        everything after the final slash.  Either part may be empty.\n",
        "    \n",
        "    splitdrive(p)\n",
        "        Split a pathname into drive and path. On Posix, drive is always\n",
        "        empty.\n",
        "    \n",
        "    splitext(p)\n",
        "        Split the extension from a pathname.\n",
        "        \n",
        "        Extension is everything from the last dot to the end, ignoring\n",
        "        leading dots.  Returns \"(root, ext)\"; ext may be empty.\n",
        "\n",
        "DATA\n",
        "    __all__ = ['normcase', 'isabs', 'join', 'splitdrive', 'split', 'splite...\n",
        "    altsep = None\n",
        "    curdir = '.'\n",
        "    defpath = ':/bin:/usr/bin'\n",
        "    devnull = '/dev/null'\n",
        "    extsep = '.'\n",
        "    pardir = '..'\n",
        "    pathsep = ':'\n",
        "    sep = '/'\n",
        "    supports_unicode_filenames = True\n",
        "\n",
        "FILE\n",
        "    /Users/robin/code/venvs/granada/lib/python3.3/posixpath.py\n",
        "\n",
        "\n"
       ]
      }
     ],
     "prompt_number": 5
    },
    {
     "cell_type": "markdown",
     "metadata": {},
     "source": [
      "Kan ogs\u00e5 bruke `help()` uten argumenter for interaktiv hjelp."
     ]
    },
    {
     "cell_type": "markdown",
     "metadata": {},
     "source": [
      "Funksjoner\n",
      "==========\n",
      "\n",
      "Funksjoner introduseres ved \u00e5 bruke `def navn(parameterliste):`. Fordi indentering er obligatorisk i Python kan man ikke ha en funksjon med \"tom\" kropp, konvensjonen er \u00e5 bruke `pass` som placeholder eller \u00e5 skrive en doc-string. Man indenterer med 4 spaces:"
     ]
    },
    {
     "cell_type": "code",
     "collapsed": false,
     "input": [
      "def is_type(thing):\n",
      "    \"\"\"This is a doc-string, it is used to generate documentation and provide help()\"\"\"\n",
      "    return isinstance(thing, type)\n",
      "print('is_type(int) == {}'.format(is_type(int)))\n",
      "help(is_type)"
     ],
     "language": "python",
     "metadata": {},
     "outputs": [
      {
       "output_type": "stream",
       "stream": "stdout",
       "text": [
        "is_type(int) == True\n",
        "Help on function is_type in module __main__:\n",
        "\n",
        "is_type(thing)\n",
        "    This is a doc-string, it is used to generate documentation and provide help()\n",
        "\n"
       ]
      }
     ],
     "prompt_number": 10
    },
    {
     "cell_type": "markdown",
     "metadata": {},
     "source": [
      "`help()` er faktisk bare en noe komplisert funksjon som bruker introspection for \u00e5 vise hva ting gj\u00f8r:"
     ]
    },
    {
     "cell_type": "code",
     "collapsed": false,
     "input": [
      "print(is_type.__doc__)\n",
      "print(dir(list))\n",
      "print(list.__str__.__doc__)"
     ],
     "language": "python",
     "metadata": {},
     "outputs": [
      {
       "output_type": "stream",
       "stream": "stdout",
       "text": [
        "This is a doc-string, it is used to generate documentation and provide help()\n",
        "['__add__', '__class__', '__contains__', '__delattr__', '__delitem__', '__dir__', '__doc__', '__eq__', '__format__', '__ge__', '__getattribute__', '__getitem__', '__gt__', '__hash__', '__iadd__', '__imul__', '__init__', '__iter__', '__le__', '__len__', '__lt__', '__mul__', '__ne__', '__new__', '__reduce__', '__reduce_ex__', '__repr__', '__reversed__', '__rmul__', '__setattr__', '__setitem__', '__sizeof__', '__str__', '__subclasshook__', 'append', 'clear', 'copy', 'count', 'extend', 'index', 'insert', 'pop', 'remove', 'reverse', 'sort']\n",
        "x.__str__() <==> str(x)\n"
       ]
      }
     ],
     "prompt_number": 14
    },
    {
     "cell_type": "markdown",
     "metadata": {},
     "source": [
      "Datatyper\n",
      "=========\n",
      "\n",
      "F\u00f8lgende er de mest sentrale datatypene i Python:\n",
      "\n",
      "- str (unicode-streng i python3, bytestring i python2)\n",
      "- bool, int, float\n",
      "- list (tenk ArrayList, ikke LinkedList)\n",
      "- tuple (immutable sequence)\n",
      "- set (tenk HashSet)\n",
      "- dict (tenk HashMap eller HashTable)\n",
      "\n",
      "Alle disse har syntaks:"
     ]
    },
    {
     "cell_type": "code",
     "collapsed": false,
     "input": [
      "name = \"Robin\"\n",
      "is_cool = True\n",
      "age = 27\n",
      "distance_in_km = 913.2\n",
      "to_do = ['Code', 'Eat', 'Sleep'] # eller list(iterable)\n",
      "plan = ('Present', 'Help') # eller tuple(iterable)\n",
      "users = {'Robin', '\u00d8yvind'} # eller set(iterable)\n",
      "coolness = {'Robin': 1337, '\u00d8yvind': 1336} # eller dict(iterable_of_pairs)\n",
      "\n",
      "print(age / distance_in_km)\n",
      "print(to_do[0:2])\n",
      "print(name in users)\n",
      "print(coolness['\u00d8yvind'])\n",
      "# KeyError:\n",
      "# print(coolness['Not cool'])\n",
      "# Default til 0 dersom ikke kul:\n",
      "print(coolness.get('Not cool', 0))\n",
      "coolness['Not cool'] = coolness.get('Not cool', 0) + 1\n",
      "print(coolness)"
     ],
     "language": "python",
     "metadata": {},
     "outputs": [
      {
       "output_type": "stream",
       "stream": "stdout",
       "text": [
        "0.029566360052562416\n",
        "['Code', 'Eat']\n",
        "True\n",
        "1336\n",
        "0\n",
        "{'Robin': 1337, 'Not cool': 1, '\u00d8yvind': 1336}\n"
       ]
      }
     ],
     "prompt_number": 34
    },
    {
     "cell_type": "markdown",
     "metadata": {},
     "source": [
      "Minner p\u00e5 `help({})` f. eks.\n",
      "\n",
      "Det finnes i tillegg mange nyttige datatyper i standard-biblioteket, noen av de vi bruker mest:\n",
      "\n",
      "- `collections.namedtuple`:"
     ]
    },
    {
     "cell_type": "code",
     "collapsed": false,
     "input": [
      "from collections import namedtuple\n",
      "Failure = namedtuple('Failure', ['status_code', 'reason'])\n",
      "proxy_error = Failure(502, 'Proxy Error: Bad Gateway')\n",
      "print(proxy_error)\n",
      "print(proxy_error.status_code)\n",
      "print(proxy_error.reason)\n",
      "# Immutable, kan ikke gj\u00f8re dette:\n",
      "# proxy_error.status_code = 404"
     ],
     "language": "python",
     "metadata": {},
     "outputs": [
      {
       "output_type": "stream",
       "stream": "stdout",
       "text": [
        "Failure(status_code=502, reason='Proxy Error: Bad Gateway')\n",
        "502\n",
        "Proxy Error: Bad Gateway\n"
       ]
      }
     ],
     "prompt_number": 20
    },
    {
     "cell_type": "markdown",
     "metadata": {},
     "source": [
      "- `collections.Counter`:"
     ]
    },
    {
     "cell_type": "code",
     "collapsed": false,
     "input": [
      "from collections import Counter\n",
      "print(Counter(\"foobar\"))\n",
      "print(Counter([1, 2, 3, 1, 1, 9]))"
     ],
     "language": "python",
     "metadata": {},
     "outputs": [
      {
       "output_type": "stream",
       "stream": "stdout",
       "text": [
        "Counter({'o': 2, 'a': 1, 'r': 1, 'b': 1, 'f': 1})\n",
        "Counter({1: 3, 2: 1, 3: 1, 9: 1})\n"
       ]
      }
     ],
     "prompt_number": 22
    },
    {
     "cell_type": "markdown",
     "metadata": {},
     "source": [
      "- `collections.OrderedDict` n\u00e5r rekkef\u00f8lge har betydning:"
     ]
    },
    {
     "cell_type": "code",
     "collapsed": false,
     "input": [
      "pairs = [(\"a\", 9), (\"b\", 13), (\"foo\", 17), (\"bar\", 37), (\"c\", 7)]\n",
      "print(dict(pairs)) # Abitr\u00e6r rekkef\u00f8lge\n",
      "from collections import OrderedDict\n",
      "print(OrderedDict(pairs)) # Bestemt rekkef\u00f8lge"
     ],
     "language": "python",
     "metadata": {},
     "outputs": [
      {
       "output_type": "stream",
       "stream": "stdout",
       "text": [
        "{'a': 9, 'bar': 37, 'c': 7, 'b': 13, 'foo': 17}\n",
        "OrderedDict([('a', 9), ('b', 13), ('foo', 17), ('bar', 37), ('c', 7)])\n"
       ]
      }
     ],
     "prompt_number": 26
    },
    {
     "cell_type": "markdown",
     "metadata": {},
     "source": [
      "- `collections.defaultdict` for f. eks. \u00e5 defaulte til tom liste:"
     ]
    },
    {
     "cell_type": "code",
     "collapsed": false,
     "input": [
      "from collections import defaultdict\n",
      "cool_things_about_people = defaultdict(list)\n",
      "print(cool_things_about_people['Robin'])"
     ],
     "language": "python",
     "metadata": {},
     "outputs": [
      {
       "output_type": "stream",
       "stream": "stdout",
       "text": [
        "[]\n"
       ]
      }
     ],
     "prompt_number": 35
    },
    {
     "cell_type": "markdown",
     "metadata": {},
     "source": [
      "L\u00f8kker, ifs og s\u00e5nn\n",
      "===================\n",
      "\n",
      "I Python har vi bare for-each l\u00f8kker som ser slik ut:\n",
      "```\n",
      "for element in iterable:\n",
      "    do_stuff_with(element)\n",
      "```\n",
      "Vi har vanlig if-elif-else, men det er ikke bare False som evalueres som False i boolsk context. Ting som er Falsy:\n",
      "\n",
      "- Tallet 0\n",
      "- En 'tom' ting (en iterable med lengde 0)\n",
      "- False\n",
      "- None (tilsvarer null)\n",
      "\n",
      "Dersom du sammenlikner med `==` blir ikke ting gjort til bool, mao kan en str aldri `== True`. Du kan eksplisitt 'boolifisere' ting med `bool()`:"
     ]
    },
    {
     "cell_type": "code",
     "collapsed": false,
     "input": [
      "print(bool('True'))\n",
      "print(bool('foeuaeu'))"
     ],
     "language": "python",
     "metadata": {},
     "outputs": [
      {
       "output_type": "stream",
       "stream": "stdout",
       "text": [
        "True\n",
        "True\n"
       ]
      }
     ],
     "prompt_number": 36
    },
    {
     "cell_type": "markdown",
     "metadata": {},
     "source": [
      "'boolifisering' f\u00f8lger samme reglene som boolsk context (if, while og slikt).\n",
      "\n",
      "Syntaks (vi putter ikke un\u00f8dvendige parenteser rundt conditions i Python):"
     ]
    },
    {
     "cell_type": "code",
     "collapsed": false,
     "input": [
      "x = 3\n",
      "while x < 11:\n",
      "    if 4 < x < 10:\n",
      "        print('x between 4 and 10')\n",
      "    elif x < 5:\n",
      "        print('x is very small')\n",
      "    else:\n",
      "        print('ABORT ABORT')\n",
      "    x += 1"
     ],
     "language": "python",
     "metadata": {},
     "outputs": [
      {
       "output_type": "stream",
       "stream": "stdout",
       "text": [
        "x is very small\n",
        "x is very small\n",
        "x between 4 and 10\n",
        "x between 4 and 10\n",
        "x between 4 and 10\n",
        "x between 4 and 10\n",
        "x between 4 and 10\n",
        "ABORT ABORT\n"
       ]
      }
     ],
     "prompt_number": 40
    },
    {
     "cell_type": "markdown",
     "metadata": {},
     "source": [
      "Iterering\n",
      "---------\n",
      "\n",
      "Siden vi ikke har en tellende l\u00f8kke i Python generer vi en iterable fra start til stop med `range(stop)` eller , `range(start, stop, [step])`:"
     ]
    },
    {
     "cell_type": "code",
     "collapsed": false,
     "input": [
      "for i in range(10, 0, -1):\n",
      "    print(i)"
     ],
     "language": "python",
     "metadata": {},
     "outputs": [
      {
       "output_type": "stream",
       "stream": "stdout",
       "text": [
        "10\n",
        "9\n",
        "8\n",
        "7\n",
        "6\n",
        "5\n",
        "4\n",
        "3\n",
        "2\n",
        "1\n"
       ]
      }
     ],
     "prompt_number": 41
    },
    {
     "cell_type": "markdown",
     "metadata": {},
     "source": [
      "Men man trenger sjelden tellende l\u00f8kker. Dersom du vil iterere over noe og du trenger indeksen bruker du iterator-apiet:"
     ]
    },
    {
     "cell_type": "code",
     "collapsed": false,
     "input": [
      "for index, character in enumerate(\"foobar\"):\n",
      "    print('\"foobar\"[{index}] = \"{character}\"'.format(**locals()))"
     ],
     "language": "python",
     "metadata": {},
     "outputs": [
      {
       "output_type": "stream",
       "stream": "stdout",
       "text": [
        "\"foobar\"[0] = \"f\"\n",
        "\"foobar\"[1] = \"o\"\n",
        "\"foobar\"[2] = \"o\"\n",
        "\"foobar\"[3] = \"b\"\n",
        "\"foobar\"[4] = \"a\"\n",
        "\"foobar\"[5] = \"r\"\n"
       ]
      }
     ],
     "prompt_number": 42
    },
    {
     "cell_type": "markdown",
     "metadata": {},
     "source": [
      "Dersom du m\u00e5 iterere over noe baklengs bruker du ogs\u00e5 iterator-apiet:"
     ]
    },
    {
     "cell_type": "code",
     "collapsed": false,
     "input": [
      "for index, character in enumerate(reversed(\"foobar\")):\n",
      "    print('reversed(\"foobar\")[{index}] = \"{character}\"'.format(**locals()))"
     ],
     "language": "python",
     "metadata": {},
     "outputs": [
      {
       "output_type": "stream",
       "stream": "stdout",
       "text": [
        "reversed(\"foobar\")[0] = \"r\"\n",
        "reversed(\"foobar\")[1] = \"a\"\n",
        "reversed(\"foobar\")[2] = \"b\"\n",
        "reversed(\"foobar\")[3] = \"o\"\n",
        "reversed(\"foobar\")[4] = \"o\"\n",
        "reversed(\"foobar\")[5] = \"f\"\n"
       ]
      }
     ],
     "prompt_number": 43
    },
    {
     "cell_type": "markdown",
     "metadata": {},
     "source": [
      "Vi bruker ogs\u00e5 iterator-api for sortering med `sorted()`. Vi kan bruke `zip()` for \u00e5 'flette' to sekvenser:"
     ]
    },
    {
     "cell_type": "code",
     "collapsed": false,
     "input": [
      "print(list(zip(range(10), \"foobar\")))"
     ],
     "language": "python",
     "metadata": {},
     "outputs": [
      {
       "output_type": "stream",
       "stream": "stdout",
       "text": [
        "[(0, 'f'), (1, 'o'), (2, 'o'), (3, 'b'), (4, 'a'), (5, 'r')]\n"
       ]
      }
     ],
     "prompt_number": 65
    },
    {
     "cell_type": "markdown",
     "metadata": {},
     "source": [
      "Comprehensions\n",
      "--------------\n",
      "\n",
      "Veldig ofte n\u00e5r man itererer over noe er det for \u00e5 bygge en data-struktur, f. eks. en Map, ArrayList eller HashSet. I Python har vi bruker man X comprehensions for x i (list, set, dict):"
     ]
    },
    {
     "cell_type": "code",
     "collapsed": false,
     "input": [
      "doubled_odd_numbers = [x * 2 if x % 2 == 1 else x for x in range(20)]\n",
      "double_only_evens = [x * 2 for x in range(20) if x % 2 == 0]\n",
      "set_of_things = {x * 13 for x in [13, 13, 7, 12, 91]}\n",
      "dict_of_indexes = {character: index for index, character in enumerate(\"foobar\")}"
     ],
     "language": "python",
     "metadata": {},
     "outputs": [],
     "prompt_number": 45
    },
    {
     "cell_type": "markdown",
     "metadata": {},
     "source": [
      "Lambda og funksjonell programmering\n",
      "===================================\n",
      "\n",
      "Python har ogs\u00e5 lambda og closures. `lambda parameterliste: kropp` brukes for \u00e5 introdusere en anonym funksjon -- anonyme funksjoner er begrenset til *ett* uttrykk og *en* linje i Python. Men man har alts\u00e5 mulighet til \u00e5 bruke kjente funksjonelle idiomer som `map`, `filter` og `reduce` dersom det blir penere enn comprehensions eller l\u00f8kker."
     ]
    },
    {
     "cell_type": "code",
     "collapsed": false,
     "input": [
      "for ordinal, character in zip(map(ord, 'foobar'), 'foobar'):\n",
      "    print('ascii ordinal of {character} is {ordinal}'.format(**locals()))\n",
      "from functools import reduce\n",
      "print('Ordinal sum of \"foobar\" is: {}'.format(reduce(lambda x, y: x + ord(y), 'foobar', 0)))\n",
      "# Men, mer idiomatisk:\n",
      "print('Ordinal sum of \"foobar\" is: {}'.format(sum(ord(char) for char in 'foobar')))"
     ],
     "language": "python",
     "metadata": {},
     "outputs": [
      {
       "output_type": "stream",
       "stream": "stdout",
       "text": [
        "ascii ordinal of f is 102\n",
        "ascii ordinal of o is 111\n",
        "ascii ordinal of o is 111\n",
        "ascii ordinal of b is 98\n",
        "ascii ordinal of a is 97\n",
        "ascii ordinal of r is 114\n",
        "Ordinal sum of \"foobar\" is: 633\n",
        "Ordinal sum of \"foobar\" is: 633\n"
       ]
      }
     ],
     "prompt_number": 73
    },
    {
     "cell_type": "markdown",
     "metadata": {},
     "source": [
      "Filer og slikt\n",
      "===============\n",
      "\n",
      "Man \u00e5pner filer ved \u00e5 bruke `open(filsti, mode='r')` som returnerer en 'file-like'. Filer er iteratorer:"
     ]
    },
    {
     "cell_type": "code",
     "collapsed": false,
     "input": [
      "code = open('data.py')\n",
      "for line_no, line in enumerate(code):\n",
      "    print(line_no, line, end='')"
     ],
     "language": "python",
     "metadata": {},
     "outputs": [
      {
       "output_type": "stream",
       "stream": "stdout",
       "text": [
        "0 # coding: utf-8\n",
        "1 \"\"\"\n",
        "2 Terminology:\n",
        "3 \n",
        "4     csv_line: A line from data/*.csv, structured as\n",
        "5         YYYY-MM-DD, float, float, ..., float\n",
        "6     data_sets: a list of lists of Aapl, Bitcoin and Gold -  [[aapls...], [bitcoins...], [golds...]]\n",
        "7     data_by_date: a dict of key=date, value=[aapl, bitcoin, gold]\n",
        "8     data_type: Aapl, Bitcoin or Gold\n",
        "9     data_parser: a function that reads a csv_line and returns an instance of data_type\n",
        "10 \"\"\"\n",
        "11 from collections import namedtuple, defaultdict, OrderedDict\n",
        "12 import datetime\n",
        "13 import operator\n",
        "14 import itertools\n",
        "15 from os import path\n",
        "16 \n",
        "17 Aapl = namedtuple('Aapl', ['date', 'open', 'high', 'low', 'close', 'volume'])\n",
        "18 Bitcoin = namedtuple('Bitcoin', ['date', 'open', 'high', 'low', 'close',\n",
        "19                                  'volume_btc', 'volume_usd', 'weighted_price'])\n",
        "20 Gold = namedtuple('Gold', ['date', 'usd', 'gbp', 'eur'])\n",
        "21 datapoint_fields = ['aapl', 'bitcoin', 'gold']\n",
        "22 Datapoint = namedtuple('Datapoint', datapoint_fields)\n",
        "23 \n",
        "24 def to_date(date_str):\n",
        "25     \"\"\"\n",
        "26     Parses YYYY-MM-DD string into a datetime.date\n",
        "27     \"\"\"\n",
        "28     pass\n",
        "29 \n",
        "30 def data_parser_for(data_type, csv_line):\n",
        "31     \"\"\"\n",
        "32     Separate csv_line by commas (,), create a date from the first item and numbers from the remaining items. If any of\n",
        "33     the remaining items are empty, None should be used in their place.\n",
        "34 \n",
        "35     Can be used to implement aapl, bitcoin and gold\n",
        "36 \n",
        "37     Returns an instance of data_type initialized with the contents of csv_line\n",
        "38     \"\"\"\n",
        "39     pass\n",
        "40 \n",
        "41 def aapl(csv_line):\n",
        "42     \"\"\"\n",
        "43     csv_line: A line from data/NASDAQ_AAPL.csv, structured as\n",
        "44         YYYY-MM-DD, open, high, low, close, volume\n",
        "45 \n",
        "46     Returns an Aapl initialized with the contents of csv_line\n",
        "47     \"\"\"\n",
        "48     pass\n",
        "49 \n",
        "50 def bitcoin(csv_line):\n",
        "51     \"\"\"\n",
        "52     csv_line: A line from data/MTGOXUSD.csv, structured as\n",
        "53         YYYY-MM-DD, open, high, low, close, volume_btc, volume_usd, weighted_price\n",
        "54 \n",
        "55     Returns an Bitcoin initialized with the contents of csv_line\n",
        "56     \"\"\"\n",
        "57     pass\n",
        "58 \n",
        "59 def gold(csv_line):\n",
        "60     \"\"\"\n",
        "61     csv_line: A line from data/GOLD_2.csv, structured as\n",
        "62         YYYY-MM-DD, usd, gbp, eur\n",
        "63 \n",
        "64     Returns an Gold initialized with the contents of csv_line\n",
        "65     \"\"\"\n",
        "66     pass\n",
        "67 \n",
        "68 def class_name_of(thing):\n",
        "69     \"\"\"\n",
        "70     Returns the class name of thing.\n",
        "71 \n",
        "72     Hint: try dir(thing) in the repl\n",
        "73     \"\"\"\n",
        "74     pass\n",
        "75 \n",
        "76 def data_point(values):\n",
        "77     \"\"\"\n",
        "78     Returns a Datapoint from a collection containing one Aapl, one Gold and one Bitcoin in arbitrary order.\n",
        "79     \"\"\"\n",
        "80     pass\n",
        "81 \n",
        "82 def open_data_file(name):\n",
        "83     \"\"\"\n",
        "84     Returns an open file handle to the file data/name, for reading\n",
        "85     \"\"\"\n",
        "86     pass\n",
        "87 \n",
        "88 def consume_header(data_file):\n",
        "89     \"\"\"\n",
        "90     Read and discard one line from data_file\n",
        "91     \"\"\"\n",
        "92     pass\n",
        "93 \n",
        "94 def parse(name, data_parser):\n",
        "95     \"\"\"\n",
        "96     Returns a list of the result of data_parser for each line in the named file\n",
        "97     \"\"\"\n",
        "98     pass\n",
        "99 \n",
        "100 def group_data_by_date(data_sets):\n",
        "101     \"\"\"\n",
        "102     data_sets: a list of lists of Aapl, Bitcoin and Gold -  [[aapls...], [bitcoins...], [golds...]]\n",
        "103 \n",
        "104     Returns a dict of key=date, value=[aapl, bitcoin, gold] for each item in data_sets\n",
        "105     \"\"\"\n",
        "106     pass\n",
        "107 \n",
        "108 def remove_incomplete_data_points(data_by_date, number_of_data_types=len(datapoint_fields)):\n",
        "109     \"\"\"\n",
        "110     data_by_date: a dict of key=date, value=[aapl, bitcoin, gold]\n",
        "111 \n",
        "112     Returns data_by_date with all incomplete Datapoints removed, where a complete Datapoint is one that has a value for all fields\n",
        "113     \"\"\"\n",
        "114     pass\n",
        "115 \n",
        "116 def order_dictionary_by_date(data_by_date):\n",
        "117     \"\"\"\n",
        "118     data_by_date: a dict of key=date, value=[aapl, bitcoin, gold]\n",
        "119 \n",
        "120     Returns an collections.OrderedDict of data_by_date, sorted by date\n",
        "121     \"\"\"\n",
        "122     pass\n",
        "123 \n",
        "124 def create_data_points_in_date_mapping(data_by_date):\n",
        "125     \"\"\"\n",
        "126     data_by_date: an OrderedDict of key=date, value=[aapl, bitcoin, gold], ordered by date ascending\n",
        "127 \n",
        "128     Returns an OrderedDict of (date, Datapoint) ordered by date ascending\n",
        "129     \"\"\"\n",
        "130     pass\n",
        "131 \n",
        "132 \n",
        "133 def datapoints(data_sets):\n",
        "134     \"\"\"\n",
        "135     data_sets: a list of lists of Aapl, Bitcoin and Gold -  [[aapls...], [bitcoins...], [golds...]]\n",
        "136 \n",
        "137     Groups all items in data_sets by date, removes incomplete groups, orders by date and converts items instances of\n",
        "138     Datapoint\n",
        "139 \n",
        "140     Returns an OrderedDict of (date, Datapoint) ordered by date ascending\n",
        "141     \"\"\"\n",
        "142     pass\n",
        "143 \n",
        "144 def fetch_data():\n",
        "145     \"\"\"\n",
        "146     Read all the dataz\n",
        "147     \"\"\"\n",
        "148     return datapoints([parse('NASDAQ_AAPL.csv', aapl), parse('MTGOXUSD.csv', bitcoin), parse('GOLD_2.csv', gold)])\n"
       ]
      }
     ],
     "prompt_number": 48
    },
    {
     "cell_type": "markdown",
     "metadata": {},
     "source": [
      "Man m\u00e5 jo egentlig ogs\u00e5 lukke filer, men det er litt plagsomt. I Python bruker vi 'context-managers' for resource-management. Da f\u00e5r vi et scope hvor ressursen er tilgjengelig, og s\u00e5 lukkes den automatisk etterp\u00e5:"
     ]
    },
    {
     "cell_type": "code",
     "collapsed": false,
     "input": [
      "from collections import Counter\n",
      "with open('data.py') as code:\n",
      "    print(code.closed)\n",
      "    print({word: count for word, count in Counter(word for word in code.read().split()).items() if count > 10})\n",
      "    print(code.closed)\n",
      "print(code.closed)"
     ],
     "language": "python",
     "metadata": {},
     "outputs": [
      {
       "output_type": "stream",
       "stream": "stdout",
       "text": [
        "False\n",
        "{'pass': 15, 'def': 16, 'Returns': 13, 'of': 25, 'a': 16, '\"\"\"': 34, 'the': 13}\n",
        "False\n",
        "True\n"
       ]
      }
     ],
     "prompt_number": 55
    },
    {
     "cell_type": "markdown",
     "metadata": {},
     "source": [
      "Tuples, unpacking, packing\n",
      "=========================\n",
      "\n",
      "Python har en slags begrenset form for pattern matching slik alle kjenner det fra Haskell (ehh)"
     ]
    },
    {
     "cell_type": "code",
     "collapsed": false,
     "input": [
      "x, y = [9, 8]\n",
      "print(x, y)\n",
      "x, y = y, x\n",
      "print(x, y)"
     ],
     "language": "python",
     "metadata": {},
     "outputs": [
      {
       "output_type": "stream",
       "stream": "stdout",
       "text": [
        "9 8\n",
        "8 9\n"
       ]
      }
     ],
     "prompt_number": 58
    },
    {
     "cell_type": "markdown",
     "metadata": {},
     "source": [
      "Under the hood gj\u00f8res dette med tuples og kalles unpacking dersom man assigner til flere verdier p\u00e5 venstre siden enn man har p\u00e5 h\u00f8yre, og packing dersom motsatt.\n",
      "\n",
      "Man kan ogs\u00e5 v\u00e6re mer avansert:"
     ]
    },
    {
     "cell_type": "code",
     "collapsed": false,
     "input": [
      "x, *rest = \"foobar\"\n",
      "print(x)\n",
      "print(rest)"
     ],
     "language": "python",
     "metadata": {},
     "outputs": [
      {
       "output_type": "stream",
       "stream": "stdout",
       "text": [
        "f\n",
        "['o', 'o', 'b', 'a', 'r']\n"
       ]
      }
     ],
     "prompt_number": 61
    },
    {
     "cell_type": "markdown",
     "metadata": {},
     "source": [
      "Her brukes `*` litt som i en regex eller glob, den sier 'resten'. *Enda* mer avansert bruk (gasp):"
     ]
    },
    {
     "cell_type": "code",
     "collapsed": false,
     "input": [
      "first, *middle, last = range(20)\n",
      "print(first)\n",
      "print(middle)\n",
      "print(last)"
     ],
     "language": "python",
     "metadata": {},
     "outputs": [
      {
       "output_type": "stream",
       "stream": "stdout",
       "text": [
        "0\n",
        "[1, 2, 3, 4, 5, 6, 7, 8, 9, 10, 11, 12, 13, 14, 15, 16, 17, 18]\n",
        "19\n"
       ]
      }
     ],
     "prompt_number": 62
    },
    {
     "cell_type": "markdown",
     "metadata": {},
     "source": [
      "Keyword args, varargs, keyword varargs\n",
      "=================================\n",
      "\n",
      "Man kan kalle funksjoner med keyword arguments i Python og man kan ogs\u00e5 angi default arguments:"
     ]
    },
    {
     "cell_type": "code",
     "collapsed": false,
     "input": [
      "def fun(x, y=9):\n",
      "    return x + y\n",
      "print(fun(y=7, x=3))\n",
      "print(fun(1))"
     ],
     "language": "python",
     "metadata": {},
     "outputs": [
      {
       "output_type": "stream",
       "stream": "stdout",
       "text": [
        "10\n",
        "10\n"
       ]
      }
     ],
     "prompt_number": 74
    },
    {
     "cell_type": "markdown",
     "metadata": {},
     "source": [
      "Dersom man \u00f8nsker \u00e5 tillatte varargs, kan man bruke tuple-unpacking syntaks men den fungerer motsatt. Argumentene blir pakket til en tuple:"
     ]
    },
    {
     "cell_type": "code",
     "collapsed": false,
     "input": [
      "def fun(first, *rest):\n",
      "    print(first)\n",
      "    print(isinstance(rest, tuple))\n",
      "    return sum(rest)\n",
      "fun(9, 11, 7)"
     ],
     "language": "python",
     "metadata": {},
     "outputs": [
      {
       "output_type": "stream",
       "stream": "stdout",
       "text": [
        "9\n",
        "True\n"
       ]
      },
      {
       "metadata": {},
       "output_type": "pyout",
       "prompt_number": 76,
       "text": [
        "18"
       ]
      }
     ],
     "prompt_number": 76
    },
    {
     "cell_type": "markdown",
     "metadata": {},
     "source": [
      "Det g\u00e5r ogs\u00e5 an \u00e5 samle opp varargs for keywords:"
     ]
    },
    {
     "cell_type": "code",
     "collapsed": false,
     "input": [
      "def fun(x, y, **others):\n",
      "    mapping = {'x': x, 'y': y}\n",
      "    mapping.update(others)\n",
      "    return mapping\n",
      "fun(4, 5, z=12)"
     ],
     "language": "python",
     "metadata": {},
     "outputs": [
      {
       "metadata": {},
       "output_type": "pyout",
       "prompt_number": 77,
       "text": [
        "{'x': 4, 'y': 5, 'z': 12}"
       ]
      }
     ],
     "prompt_number": 77
    },
    {
     "cell_type": "code",
     "collapsed": false,
     "input": [],
     "language": "python",
     "metadata": {},
     "outputs": []
    }
   ],
   "metadata": {}
  }
 ]
}